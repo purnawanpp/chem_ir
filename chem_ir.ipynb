{
  "nbformat": 4,
  "nbformat_minor": 0,
  "metadata": {
    "colab": {
      "provenance": [],
      "authorship_tag": "ABX9TyOjnloyff8invgrrMUQhwL8",
      "include_colab_link": true
    },
    "kernelspec": {
      "name": "python3",
      "display_name": "Python 3"
    },
    "language_info": {
      "name": "python"
    }
  },
  "cells": [
    {
      "cell_type": "markdown",
      "metadata": {
        "id": "view-in-github",
        "colab_type": "text"
      },
      "source": [
        "<a href=\"https://colab.research.google.com/github/purnawanpp/chem_ir/blob/main/chem_ir.ipynb\" target=\"_parent\"><img src=\"https://colab.research.google.com/assets/colab-badge.svg\" alt=\"Open In Colab\"/></a>"
      ]
    },
    {
      "cell_type": "markdown",
      "source": [
        "**PCA Analysis**"
      ],
      "metadata": {
        "id": "v-7igx-hzaZH"
      }
    },
    {
      "cell_type": "code",
      "execution_count": 1,
      "metadata": {
        "colab": {
          "base_uri": "https://localhost:8080/",
          "height": 279
        },
        "id": "OngiWxHvyh89",
        "outputId": "7def8e2c-d022-40bc-9352-e28cfdffc14f"
      },
      "outputs": [
        {
          "output_type": "display_data",
          "data": {
            "text/plain": [
              "<Figure size 432x288 with 1 Axes>"
            ],
            "image/png": "[encoded data removed]"
          },
          "metadata": {
            "needs_background": "light"
          }
        }
      ],
      "source": [
        "# Import libraries\n",
        "import pandas as pd\n",
        "from sklearn.decomposition import PCA\n",
        "import matplotlib.pyplot as plt\n",
        "\n",
        "# Load data\n",
        "url = 'https://github.com/purnawanpp/1ODX/raw/main/data.csv' # Ubah dengan link file IR_spectrum.csv Anda\n",
        "data = pd.read_csv(url)\n",
        "\n",
        "# Clean data (optional)\n",
        "# ...\n",
        "\n",
        "# Normalize data\n",
        "data_normalized = (data['Intensity'] - data['Intensity'].mean()) / data['Intensity'].std()\n",
        "\n",
        "# Combine data\n",
        "data_combined = pd.concat([data['Wavenumber (cm-1)'], data_normalized], axis=1)\n",
        "\n",
        "# Perform PCA analysis\n",
        "pca = PCA(n_components=2)\n",
        "principalComponents = pca.fit_transform(data_combined)\n",
        "principalDf = pd.DataFrame(data = principalComponents, columns = ['PC1', 'PC2'])\n",
        "\n",
        "# Visualize results\n",
        "plt.scatter(principalDf['PC1'], principalDf['PC2'])\n",
        "plt.xlabel('PC1')\n",
        "plt.ylabel('PC2')\n",
        "plt.show()\n"
      ]
    },
    {
      "cell_type": "code",
      "source": [
        "# Import libraries\n",
        "import pandas as pd\n",
        "from sklearn.cluster import KMeans\n",
        "import matplotlib.pyplot as plt\n",
        "\n",
        "# Load data\n",
        "url = 'https://github.com/purnawanpp/1ODX/raw/main/data.csv' # Ubah dengan link file IR_spectrum.csv Anda\n",
        "data = pd.read_csv(url)\n",
        "\n",
        "# Clean data (optional)\n",
        "# ...\n",
        "\n",
        "# Normalize data\n",
        "data_normalized = (data['Intensity'] - data['Intensity'].mean()) / data['Intensity'].std()\n",
        "\n",
        "# Combine data\n",
        "data_combined = pd.concat([data['Wavenumber (cm-1)'], data_normalized], axis=1)\n",
        "\n",
        "# Determine optimal number of clusters using elbow method\n",
        "wcss = []\n",
        "for i in range(1, len(data_combined)+1):\n",
        "    kmeans = KMeans(n_clusters=i, init='k-means++', max_iter=300, n_init=10, random_state=0)\n",
        "    kmeans.fit(data_combined)\n",
        "    wcss.append(kmeans.inertia_)\n",
        "plt.plot(range(1, len(data_combined)+1), wcss)\n",
        "plt.title('Elbow Method')\n",
        "plt.xlabel('Number of clusters')\n",
        "plt.ylabel('WCSS')\n",
        "plt.show()\n",
        "\n",
        "# Perform k-means clustering\n",
        "kmeans = KMeans(n_clusters=4, init='k-means++', max_iter=300, n_init=10, random_state=0)\n",
        "pred_y = kmeans.fit_predict(data_combined)\n",
        "\n",
        "# Visualize results\n",
        "plt.scatter(data_combined.iloc[:,0], data_combined.iloc[:,1], c=pred_y)\n",
        "plt.scatter(kmeans.cluster_centers_[:, 0], kmeans.cluster_centers_[:, 1], s=300, c='red')\n",
        "plt.xlabel('Wavenumber (cm-1)')\n",
        "plt.ylabel('Normalized Intensity')\n",
        "plt.show()\n"
      ],
      "metadata": {
        "colab": {
          "base_uri": "https://localhost:8080/",
          "height": 557
        },
        "id": "Xq90jSvJzHsl",
        "outputId": "96272d2d-a7fc-44bf-d203-d963f33b08ae"
      },
      "execution_count": 4,
      "outputs": [
        {
          "output_type": "display_data",
          "data": {
            "text/plain": [
              "<Figure size 432x288 with 1 Axes>"
            ],
            "image/png": "[encoded data removed]"
          },
          "metadata": {
            "needs_background": "light"
          }
        },
        {
          "output_type": "display_data",
          "data": {
            "text/plain": [
              "<Figure size 432x288 with 1 Axes>"
            ],
            "image/png": "[encoded data removed]"
          },
          "metadata": {
            "needs_background": "light"
          }
        }
      ]
    },
    {
      "cell_type": "markdown",
      "source": [
        "**PLS (partial least squares)**"
      ],
      "metadata": {
        "id": "pbX0nvr00lqN"
      }
    },
    {
      "cell_type": "code",
      "source": [
        "import pandas as pd\n",
        "import numpy as np\n",
        "from sklearn.cross_decomposition import PLSRegression\n",
        "import matplotlib.pyplot as plt\n",
        "\n",
        "# Load data\n",
        "url = 'https://github.com/purnawanpp/1ODX/raw/main/data.csv' # Ubah dengan link file IR_spectrum.csv Anda\n",
        "data = pd.read_csv(url)\n",
        "\n",
        "# Split data into X and y\n",
        "X = data['Wavenumber (cm-1)'].values.reshape(-1, 1)\n",
        "y = data['Intensity'].values\n",
        "\n",
        "# Split data into training and test sets\n",
        "split_index = int(0.8 * len(X))\n",
        "X_train, X_test = X[:split_index], X[split_index:]\n",
        "y_train, y_test = y[:split_index], y[split_index:]\n",
        "\n",
        "# Train PLS model\n",
        "pls = PLSRegression(n_components=1)\n",
        "pls.fit(X_train, y_train)\n",
        "\n",
        "# Predict on test data\n",
        "y_pred = pls.predict(X_test)\n",
        "\n",
        "# Calculate R2 score\n",
        "r2 = pls.score(X_test, y_test)\n",
        "\n",
        "# Plot predicted vs actual values\n",
        "plt.scatter(X_test, y_test, color='black')\n",
        "plt.plot(X_test, y_pred, color='blue', linewidth=3)\n",
        "plt.xlabel('Wavenumber (cm-1)')\n",
        "plt.ylabel('Intensity')\n",
        "plt.title('PLS Regression')\n",
        "plt.legend(['Predicted', 'Actual'])\n",
        "plt.show()\n",
        "\n",
        "# Print results\n",
        "print(f\"R2 score: {r2}\")\n"
      ],
      "metadata": {
        "colab": {
          "base_uri": "https://localhost:8080/",
          "height": 312
        },
        "id": "KiNMEQYL0pko",
        "outputId": "4fc5da0c-80d7-45c6-cb3e-22fabde57fbf"
      },
      "execution_count": 9,
      "outputs": [
        {
          "output_type": "display_data",
          "data": {
            "text/plain": [
              "<Figure size 432x288 with 1 Axes>"
            ],
            "image/png": "[encoded data removed]"
          },
          "metadata": {
            "needs_background": "light"
          }
        },
        {
          "output_type": "stream",
          "name": "stdout",
          "text": [
            "R2 score: 0.18179944096779166\n"
          ]
        }
      ]
    },
    {
      "cell_type": "markdown",
      "source": [
        "**Discriminant analysis**"
      ],
      "metadata": {
        "id": "FQz6l8022oow"
      }
    },
    {
      "cell_type": "code",
      "source": [
        "import pandas as pd\n",
        "\n",
        "# Load data\n",
        "url = 'https://github.com/purnawanpp/1ODX/raw/main/data.csv' # Ubah dengan link file IR_spectrum.csv Anda\n",
        "df = pd.read_csv(url)\n",
        "\n",
        "# Print first few rows of data frame\n",
        "print(df.head())\n"
      ],
      "metadata": {
        "colab": {
          "base_uri": "https://localhost:8080/"
        },
        "id": "2KbWTqcy5GZO",
        "outputId": "496af116-f9bc-43d8-e553-5723b749ab8b"
      },
      "execution_count": 19,
      "outputs": [
        {
          "output_type": "stream",
          "name": "stdout",
          "text": [
            "   Wavenumber_(cm-1)  Intensity\n",
            "0               4000     0.0925\n",
            "1               3999     0.0876\n",
            "2               3998     0.0913\n",
            "3               3997     0.0987\n",
            "4               3996     0.0976\n"
          ]
        }
      ]
    }
  ]
}